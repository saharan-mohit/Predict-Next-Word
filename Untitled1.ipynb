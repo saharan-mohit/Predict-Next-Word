{
  "nbformat": 4,
  "nbformat_minor": 0,
  "metadata": {
    "colab": {
      "provenance": [],
      "collapsed_sections": []
    },
    "kernelspec": {
      "name": "python3",
      "display_name": "Python 3"
    },
    "language_info": {
      "name": "python"
    }
  },
  "cells": [
    {
      "cell_type": "code",
      "execution_count": 1,
      "metadata": {
        "id": "wvqT5b_PxHR5"
      },
      "outputs": [],
      "source": [
        "#importing necessary libraries\n",
        "import numpy as np\n",
        "import pandas as pd\n",
        "from keras.preprocessing.text import Tokenizer\n",
        "from keras.utils import np_utils\n",
        "from keras.layers import Dense, LSTM ,Embedding\n",
        "from keras.models import Sequential"
      ]
    },
    {
      "cell_type": "code",
      "source": [
        "#source text\n",
        "data='''Data science is an interdisciplinary field that uses scientific methods, processes, algorithms and systems \n",
        "to extract knowledge and insights from noisy, structured and unstructured data, and apply knowledge from data across\n",
        "a broad range of application domains. Data science is related to data mining, machine learning and big data.\n",
        "Data science is a concept to unify statistics, data analysis, informatics, and their related methods in order to \n",
        "understand and analyse actual phenomena with data.It uses techniques and theories drawn from many fields within \n",
        "the context of mathematics, statistics, computer science, information science, and domain knowledge.'''"
      ],
      "metadata": {
        "id": "I9RB_XjRxYln"
      },
      "execution_count": 2,
      "outputs": []
    },
    {
      "cell_type": "code",
      "source": [
        "#integer encode text\n",
        "tokenizer=Tokenizer()\n",
        "tokenizer.fit_on_texts([data])\n",
        "encoded_data= tokenizer.texts_to_sequences([data])[0]\n",
        "encoded_data\n"
      ],
      "metadata": {
        "colab": {
          "base_uri": "https://localhost:8080/"
        },
        "id": "UuIPsWuNxcUI",
        "outputId": "c40df5fe-27e6-4ce7-a5e2-1553acf24759"
      },
      "execution_count": 3,
      "outputs": [
        {
          "output_type": "execute_result",
          "data": {
            "text/plain": [
              "[1,\n",
              " 3,\n",
              " 5,\n",
              " 14,\n",
              " 15,\n",
              " 16,\n",
              " 17,\n",
              " 8,\n",
              " 18,\n",
              " 9,\n",
              " 19,\n",
              " 20,\n",
              " 2,\n",
              " 21,\n",
              " 4,\n",
              " 22,\n",
              " 6,\n",
              " 2,\n",
              " 23,\n",
              " 7,\n",
              " 24,\n",
              " 25,\n",
              " 2,\n",
              " 26,\n",
              " 1,\n",
              " 2,\n",
              " 27,\n",
              " 6,\n",
              " 7,\n",
              " 1,\n",
              " 28,\n",
              " 10,\n",
              " 29,\n",
              " 30,\n",
              " 11,\n",
              " 31,\n",
              " 32,\n",
              " 1,\n",
              " 3,\n",
              " 5,\n",
              " 12,\n",
              " 4,\n",
              " 1,\n",
              " 33,\n",
              " 34,\n",
              " 35,\n",
              " 2,\n",
              " 36,\n",
              " 1,\n",
              " 1,\n",
              " 3,\n",
              " 5,\n",
              " 10,\n",
              " 37,\n",
              " 4,\n",
              " 38,\n",
              " 13,\n",
              " 1,\n",
              " 39,\n",
              " 40,\n",
              " 2,\n",
              " 41,\n",
              " 12,\n",
              " 9,\n",
              " 42,\n",
              " 43,\n",
              " 4,\n",
              " 44,\n",
              " 2,\n",
              " 45,\n",
              " 46,\n",
              " 47,\n",
              " 48,\n",
              " 1,\n",
              " 49,\n",
              " 8,\n",
              " 50,\n",
              " 2,\n",
              " 51,\n",
              " 52,\n",
              " 7,\n",
              " 53,\n",
              " 54,\n",
              " 55,\n",
              " 56,\n",
              " 57,\n",
              " 11,\n",
              " 58,\n",
              " 13,\n",
              " 59,\n",
              " 3,\n",
              " 60,\n",
              " 3,\n",
              " 2,\n",
              " 61,\n",
              " 6]"
            ]
          },
          "metadata": {},
          "execution_count": 3
        }
      ]
    },
    {
      "cell_type": "code",
      "source": [
        "#determining the vocabulary size\n",
        "vocab_size=len(tokenizer.word_index)+1\n",
        "print(\"Vocabulary Size is {}\".format(vocab_size))"
      ],
      "metadata": {
        "colab": {
          "base_uri": "https://localhost:8080/"
        },
        "id": "Gv1hvKQNxex2",
        "outputId": "730425bd-9bf2-4365-b428-50cb083e3114"
      },
      "execution_count": 4,
      "outputs": [
        {
          "output_type": "stream",
          "name": "stdout",
          "text": [
            "Vocabulary Size is 62\n"
          ]
        }
      ]
    },
    {
      "cell_type": "code",
      "source": [
        "#creating a sequence of words to fitthe model wth one word as input and one word as output\n",
        "#create word- word sequences\n",
        "sequences=list()\n",
        "for i in range(1,len(encoded_data)):\n",
        "    sequence=encoded_data[i-1:i+1]\n",
        "    sequences.append(sequence)\n",
        "    \n",
        "print('Total Sequences: {}' .format(len(sequences)))   "
      ],
      "metadata": {
        "colab": {
          "base_uri": "https://localhost:8080/"
        },
        "id": "Q7oTu9UCxlRB",
        "outputId": "28469d15-8b0f-4d7b-f113-fb07c151770d"
      },
      "execution_count": 5,
      "outputs": [
        {
          "output_type": "stream",
          "name": "stdout",
          "text": [
            "Total Sequences: 95\n"
          ]
        }
      ]
    },
    {
      "cell_type": "code",
      "source": [
        "#input output pairs\n",
        "sequences"
      ],
      "metadata": {
        "colab": {
          "base_uri": "https://localhost:8080/"
        },
        "id": "hBzbHA-ExoJE",
        "outputId": "d7cea7de-b190-40f6-aeb3-f3f0caade140"
      },
      "execution_count": 6,
      "outputs": [
        {
          "output_type": "execute_result",
          "data": {
            "text/plain": [
              "[[1, 3],\n",
              " [3, 5],\n",
              " [5, 14],\n",
              " [14, 15],\n",
              " [15, 16],\n",
              " [16, 17],\n",
              " [17, 8],\n",
              " [8, 18],\n",
              " [18, 9],\n",
              " [9, 19],\n",
              " [19, 20],\n",
              " [20, 2],\n",
              " [2, 21],\n",
              " [21, 4],\n",
              " [4, 22],\n",
              " [22, 6],\n",
              " [6, 2],\n",
              " [2, 23],\n",
              " [23, 7],\n",
              " [7, 24],\n",
              " [24, 25],\n",
              " [25, 2],\n",
              " [2, 26],\n",
              " [26, 1],\n",
              " [1, 2],\n",
              " [2, 27],\n",
              " [27, 6],\n",
              " [6, 7],\n",
              " [7, 1],\n",
              " [1, 28],\n",
              " [28, 10],\n",
              " [10, 29],\n",
              " [29, 30],\n",
              " [30, 11],\n",
              " [11, 31],\n",
              " [31, 32],\n",
              " [32, 1],\n",
              " [1, 3],\n",
              " [3, 5],\n",
              " [5, 12],\n",
              " [12, 4],\n",
              " [4, 1],\n",
              " [1, 33],\n",
              " [33, 34],\n",
              " [34, 35],\n",
              " [35, 2],\n",
              " [2, 36],\n",
              " [36, 1],\n",
              " [1, 1],\n",
              " [1, 3],\n",
              " [3, 5],\n",
              " [5, 10],\n",
              " [10, 37],\n",
              " [37, 4],\n",
              " [4, 38],\n",
              " [38, 13],\n",
              " [13, 1],\n",
              " [1, 39],\n",
              " [39, 40],\n",
              " [40, 2],\n",
              " [2, 41],\n",
              " [41, 12],\n",
              " [12, 9],\n",
              " [9, 42],\n",
              " [42, 43],\n",
              " [43, 4],\n",
              " [4, 44],\n",
              " [44, 2],\n",
              " [2, 45],\n",
              " [45, 46],\n",
              " [46, 47],\n",
              " [47, 48],\n",
              " [48, 1],\n",
              " [1, 49],\n",
              " [49, 8],\n",
              " [8, 50],\n",
              " [50, 2],\n",
              " [2, 51],\n",
              " [51, 52],\n",
              " [52, 7],\n",
              " [7, 53],\n",
              " [53, 54],\n",
              " [54, 55],\n",
              " [55, 56],\n",
              " [56, 57],\n",
              " [57, 11],\n",
              " [11, 58],\n",
              " [58, 13],\n",
              " [13, 59],\n",
              " [59, 3],\n",
              " [3, 60],\n",
              " [60, 3],\n",
              " [3, 2],\n",
              " [2, 61],\n",
              " [61, 6]]"
            ]
          },
          "metadata": {},
          "execution_count": 6
        }
      ]
    },
    {
      "cell_type": "code",
      "source": [
        "#split the sequences into input element X and output elememnt Y\n",
        "sequences=np.asarray(sequences)\n",
        "X,y=sequences[:,0],sequences[:,1]"
      ],
      "metadata": {
        "id": "v9Q4BAg0xsLu"
      },
      "execution_count": 7,
      "outputs": []
    },
    {
      "cell_type": "code",
      "source": [
        "X[:5]"
      ],
      "metadata": {
        "colab": {
          "base_uri": "https://localhost:8080/"
        },
        "id": "1jXXzYEAxuuM",
        "outputId": "2f373f6d-9511-48d3-eb00-62b3ac935290"
      },
      "execution_count": 8,
      "outputs": [
        {
          "output_type": "execute_result",
          "data": {
            "text/plain": [
              "array([ 1,  3,  5, 14, 15])"
            ]
          },
          "metadata": {},
          "execution_count": 8
        }
      ]
    },
    {
      "cell_type": "code",
      "source": [
        "y[:5]"
      ],
      "metadata": {
        "colab": {
          "base_uri": "https://localhost:8080/"
        },
        "id": "iUVwz2GQxxW8",
        "outputId": "593dd856-1ada-40f3-8707-d812b619b7f8"
      },
      "execution_count": 9,
      "outputs": [
        {
          "output_type": "execute_result",
          "data": {
            "text/plain": [
              "array([ 3,  5, 14, 15, 16])"
            ]
          },
          "metadata": {},
          "execution_count": 9
        }
      ]
    },
    {
      "cell_type": "code",
      "source": [
        "# one hot encode outputs\n",
        "y = np_utils.to_categorical(y, num_classes=vocab_size)\n",
        "# define model\n",
        "y[:5]\n"
      ],
      "metadata": {
        "colab": {
          "base_uri": "https://localhost:8080/"
        },
        "id": "RzE7JZfEx0ha",
        "outputId": "aaa4c9b3-efb2-4ab2-9203-17bc412178fb"
      },
      "execution_count": 10,
      "outputs": [
        {
          "output_type": "execute_result",
          "data": {
            "text/plain": [
              "array([[0., 0., 0., 1., 0., 0., 0., 0., 0., 0., 0., 0., 0., 0., 0., 0.,\n",
              "        0., 0., 0., 0., 0., 0., 0., 0., 0., 0., 0., 0., 0., 0., 0., 0.,\n",
              "        0., 0., 0., 0., 0., 0., 0., 0., 0., 0., 0., 0., 0., 0., 0., 0.,\n",
              "        0., 0., 0., 0., 0., 0., 0., 0., 0., 0., 0., 0., 0., 0.],\n",
              "       [0., 0., 0., 0., 0., 1., 0., 0., 0., 0., 0., 0., 0., 0., 0., 0.,\n",
              "        0., 0., 0., 0., 0., 0., 0., 0., 0., 0., 0., 0., 0., 0., 0., 0.,\n",
              "        0., 0., 0., 0., 0., 0., 0., 0., 0., 0., 0., 0., 0., 0., 0., 0.,\n",
              "        0., 0., 0., 0., 0., 0., 0., 0., 0., 0., 0., 0., 0., 0.],\n",
              "       [0., 0., 0., 0., 0., 0., 0., 0., 0., 0., 0., 0., 0., 0., 1., 0.,\n",
              "        0., 0., 0., 0., 0., 0., 0., 0., 0., 0., 0., 0., 0., 0., 0., 0.,\n",
              "        0., 0., 0., 0., 0., 0., 0., 0., 0., 0., 0., 0., 0., 0., 0., 0.,\n",
              "        0., 0., 0., 0., 0., 0., 0., 0., 0., 0., 0., 0., 0., 0.],\n",
              "       [0., 0., 0., 0., 0., 0., 0., 0., 0., 0., 0., 0., 0., 0., 0., 1.,\n",
              "        0., 0., 0., 0., 0., 0., 0., 0., 0., 0., 0., 0., 0., 0., 0., 0.,\n",
              "        0., 0., 0., 0., 0., 0., 0., 0., 0., 0., 0., 0., 0., 0., 0., 0.,\n",
              "        0., 0., 0., 0., 0., 0., 0., 0., 0., 0., 0., 0., 0., 0.],\n",
              "       [0., 0., 0., 0., 0., 0., 0., 0., 0., 0., 0., 0., 0., 0., 0., 0.,\n",
              "        1., 0., 0., 0., 0., 0., 0., 0., 0., 0., 0., 0., 0., 0., 0., 0.,\n",
              "        0., 0., 0., 0., 0., 0., 0., 0., 0., 0., 0., 0., 0., 0., 0., 0.,\n",
              "        0., 0., 0., 0., 0., 0., 0., 0., 0., 0., 0., 0., 0., 0.]],\n",
              "      dtype=float32)"
            ]
          },
          "metadata": {},
          "execution_count": 10
        }
      ]
    },
    {
      "cell_type": "code",
      "source": [
        "#Model Buildng\n",
        "model=Sequential()\n",
        "model.add(Embedding(vocab_size,10,input_length=1))\n",
        "model.add(LSTM(50))\n",
        "model.add(Dense(vocab_size, activation='softmax'))\n",
        "print(model.summary())"
      ],
      "metadata": {
        "colab": {
          "base_uri": "https://localhost:8080/"
        },
        "id": "5ode2s_5x325",
        "outputId": "b11d8f19-261c-4393-fa79-3ab3650c628c"
      },
      "execution_count": 11,
      "outputs": [
        {
          "output_type": "stream",
          "name": "stdout",
          "text": [
            "Model: \"sequential\"\n",
            "_________________________________________________________________\n",
            " Layer (type)                Output Shape              Param #   \n",
            "=================================================================\n",
            " embedding (Embedding)       (None, 1, 10)             620       \n",
            "                                                                 \n",
            " lstm (LSTM)                 (None, 50)                12200     \n",
            "                                                                 \n",
            " dense (Dense)               (None, 62)                3162      \n",
            "                                                                 \n",
            "=================================================================\n",
            "Total params: 15,982\n",
            "Trainable params: 15,982\n",
            "Non-trainable params: 0\n",
            "_________________________________________________________________\n",
            "None\n"
          ]
        }
      ]
    },
    {
      "cell_type": "code",
      "source": [
        "#compiling the network\n",
        "model.compile(loss='categorical_crossentropy',optimizer='adam',metrics=['accuracy'])"
      ],
      "metadata": {
        "id": "P3V59os7x67X"
      },
      "execution_count": 12,
      "outputs": []
    },
    {
      "cell_type": "code",
      "source": [
        "model.fit(X,y,epochs=100)"
      ],
      "metadata": {
        "colab": {
          "base_uri": "https://localhost:8080/"
        },
        "id": "PeEMSZ47x9_C",
        "outputId": "f48c257f-c188-41da-b5e8-0d10340b2d90"
      },
      "execution_count": 13,
      "outputs": [
        {
          "output_type": "stream",
          "name": "stdout",
          "text": [
            "Epoch 1/100\n",
            "3/3 [==============================] - 3s 7ms/step - loss: 4.1273 - accuracy: 0.0316\n",
            "Epoch 2/100\n",
            "3/3 [==============================] - 0s 10ms/step - loss: 4.1252 - accuracy: 0.1053\n",
            "Epoch 3/100\n",
            "3/3 [==============================] - 0s 8ms/step - loss: 4.1235 - accuracy: 0.1263\n",
            "Epoch 4/100\n",
            "3/3 [==============================] - 0s 7ms/step - loss: 4.1217 - accuracy: 0.1158\n",
            "Epoch 5/100\n",
            "3/3 [==============================] - 0s 7ms/step - loss: 4.1199 - accuracy: 0.1263\n",
            "Epoch 6/100\n",
            "3/3 [==============================] - 0s 7ms/step - loss: 4.1182 - accuracy: 0.1368\n",
            "Epoch 7/100\n",
            "3/3 [==============================] - 0s 8ms/step - loss: 4.1162 - accuracy: 0.1368\n",
            "Epoch 8/100\n",
            "3/3 [==============================] - 0s 9ms/step - loss: 4.1143 - accuracy: 0.1263\n",
            "Epoch 9/100\n",
            "3/3 [==============================] - 0s 8ms/step - loss: 4.1124 - accuracy: 0.1368\n",
            "Epoch 10/100\n",
            "3/3 [==============================] - 0s 11ms/step - loss: 4.1101 - accuracy: 0.1368\n",
            "Epoch 11/100\n",
            "3/3 [==============================] - 0s 8ms/step - loss: 4.1078 - accuracy: 0.1368\n",
            "Epoch 12/100\n",
            "3/3 [==============================] - 0s 8ms/step - loss: 4.1056 - accuracy: 0.1368\n",
            "Epoch 13/100\n",
            "3/3 [==============================] - 0s 9ms/step - loss: 4.1031 - accuracy: 0.1368\n",
            "Epoch 14/100\n",
            "3/3 [==============================] - 0s 9ms/step - loss: 4.1005 - accuracy: 0.1368\n",
            "Epoch 15/100\n",
            "3/3 [==============================] - 0s 7ms/step - loss: 4.0975 - accuracy: 0.1368\n",
            "Epoch 16/100\n",
            "3/3 [==============================] - 0s 9ms/step - loss: 4.0947 - accuracy: 0.1474\n",
            "Epoch 17/100\n",
            "3/3 [==============================] - 0s 9ms/step - loss: 4.0912 - accuracy: 0.1474\n",
            "Epoch 18/100\n",
            "3/3 [==============================] - 0s 8ms/step - loss: 4.0881 - accuracy: 0.1474\n",
            "Epoch 19/100\n",
            "3/3 [==============================] - 0s 8ms/step - loss: 4.0843 - accuracy: 0.1474\n",
            "Epoch 20/100\n",
            "3/3 [==============================] - 0s 8ms/step - loss: 4.0802 - accuracy: 0.1474\n",
            "Epoch 21/100\n",
            "3/3 [==============================] - 0s 9ms/step - loss: 4.0759 - accuracy: 0.1474\n",
            "Epoch 22/100\n",
            "3/3 [==============================] - 0s 8ms/step - loss: 4.0714 - accuracy: 0.1474\n",
            "Epoch 23/100\n",
            "3/3 [==============================] - 0s 7ms/step - loss: 4.0663 - accuracy: 0.1368\n",
            "Epoch 24/100\n",
            "3/3 [==============================] - 0s 8ms/step - loss: 4.0610 - accuracy: 0.1368\n",
            "Epoch 25/100\n",
            "3/3 [==============================] - 0s 7ms/step - loss: 4.0550 - accuracy: 0.1368\n",
            "Epoch 26/100\n",
            "3/3 [==============================] - 0s 7ms/step - loss: 4.0485 - accuracy: 0.1368\n",
            "Epoch 27/100\n",
            "3/3 [==============================] - 0s 10ms/step - loss: 4.0421 - accuracy: 0.1263\n",
            "Epoch 28/100\n",
            "3/3 [==============================] - 0s 8ms/step - loss: 4.0350 - accuracy: 0.1263\n",
            "Epoch 29/100\n",
            "3/3 [==============================] - 0s 8ms/step - loss: 4.0269 - accuracy: 0.1263\n",
            "Epoch 30/100\n",
            "3/3 [==============================] - 0s 8ms/step - loss: 4.0191 - accuracy: 0.1263\n",
            "Epoch 31/100\n",
            "3/3 [==============================] - 0s 9ms/step - loss: 4.0094 - accuracy: 0.1263\n",
            "Epoch 32/100\n",
            "3/3 [==============================] - 0s 11ms/step - loss: 3.9991 - accuracy: 0.1263\n",
            "Epoch 33/100\n",
            "3/3 [==============================] - 0s 8ms/step - loss: 3.9894 - accuracy: 0.1263\n",
            "Epoch 34/100\n",
            "3/3 [==============================] - 0s 8ms/step - loss: 3.9779 - accuracy: 0.1263\n",
            "Epoch 35/100\n",
            "3/3 [==============================] - 0s 7ms/step - loss: 3.9647 - accuracy: 0.1158\n",
            "Epoch 36/100\n",
            "3/3 [==============================] - 0s 10ms/step - loss: 3.9511 - accuracy: 0.1053\n",
            "Epoch 37/100\n",
            "3/3 [==============================] - 0s 8ms/step - loss: 3.9379 - accuracy: 0.1053\n",
            "Epoch 38/100\n",
            "3/3 [==============================] - 0s 9ms/step - loss: 3.9229 - accuracy: 0.0947\n",
            "Epoch 39/100\n",
            "3/3 [==============================] - 0s 10ms/step - loss: 3.9050 - accuracy: 0.0842\n",
            "Epoch 40/100\n",
            "3/3 [==============================] - 0s 8ms/step - loss: 3.8884 - accuracy: 0.0842\n",
            "Epoch 41/100\n",
            "3/3 [==============================] - 0s 8ms/step - loss: 3.8694 - accuracy: 0.0842\n",
            "Epoch 42/100\n",
            "3/3 [==============================] - 0s 8ms/step - loss: 3.8505 - accuracy: 0.0842\n",
            "Epoch 43/100\n",
            "3/3 [==============================] - 0s 7ms/step - loss: 3.8298 - accuracy: 0.0842\n",
            "Epoch 44/100\n",
            "3/3 [==============================] - 0s 7ms/step - loss: 3.8051 - accuracy: 0.0842\n",
            "Epoch 45/100\n",
            "3/3 [==============================] - 0s 13ms/step - loss: 3.7841 - accuracy: 0.0842\n",
            "Epoch 46/100\n",
            "3/3 [==============================] - 0s 8ms/step - loss: 3.7597 - accuracy: 0.0842\n",
            "Epoch 47/100\n",
            "3/3 [==============================] - 0s 8ms/step - loss: 3.7336 - accuracy: 0.0842\n",
            "Epoch 48/100\n",
            "3/3 [==============================] - 0s 8ms/step - loss: 3.7064 - accuracy: 0.0842\n",
            "Epoch 49/100\n",
            "3/3 [==============================] - 0s 9ms/step - loss: 3.6812 - accuracy: 0.0842\n",
            "Epoch 50/100\n",
            "3/3 [==============================] - 0s 8ms/step - loss: 3.6540 - accuracy: 0.0947\n",
            "Epoch 51/100\n",
            "3/3 [==============================] - 0s 10ms/step - loss: 3.6270 - accuracy: 0.0947\n",
            "Epoch 52/100\n",
            "3/3 [==============================] - 0s 7ms/step - loss: 3.5984 - accuracy: 0.0947\n",
            "Epoch 53/100\n",
            "3/3 [==============================] - 0s 8ms/step - loss: 3.5725 - accuracy: 0.0947\n",
            "Epoch 54/100\n",
            "3/3 [==============================] - 0s 10ms/step - loss: 3.5442 - accuracy: 0.1053\n",
            "Epoch 55/100\n",
            "3/3 [==============================] - 0s 7ms/step - loss: 3.5183 - accuracy: 0.1053\n",
            "Epoch 56/100\n",
            "3/3 [==============================] - 0s 8ms/step - loss: 3.4910 - accuracy: 0.1053\n",
            "Epoch 57/100\n",
            "3/3 [==============================] - 0s 7ms/step - loss: 3.4684 - accuracy: 0.1053\n",
            "Epoch 58/100\n",
            "3/3 [==============================] - 0s 8ms/step - loss: 3.4428 - accuracy: 0.1053\n",
            "Epoch 59/100\n",
            "3/3 [==============================] - 0s 8ms/step - loss: 3.4209 - accuracy: 0.1053\n",
            "Epoch 60/100\n",
            "3/3 [==============================] - 0s 9ms/step - loss: 3.3971 - accuracy: 0.1053\n",
            "Epoch 61/100\n",
            "3/3 [==============================] - 0s 8ms/step - loss: 3.3763 - accuracy: 0.1158\n",
            "Epoch 62/100\n",
            "3/3 [==============================] - 0s 7ms/step - loss: 3.3558 - accuracy: 0.1158\n",
            "Epoch 63/100\n",
            "3/3 [==============================] - 0s 9ms/step - loss: 3.3371 - accuracy: 0.1263\n",
            "Epoch 64/100\n",
            "3/3 [==============================] - 0s 9ms/step - loss: 3.3159 - accuracy: 0.1263\n",
            "Epoch 65/100\n",
            "3/3 [==============================] - 0s 10ms/step - loss: 3.2971 - accuracy: 0.1263\n",
            "Epoch 66/100\n",
            "3/3 [==============================] - 0s 8ms/step - loss: 3.2774 - accuracy: 0.1263\n",
            "Epoch 67/100\n",
            "3/3 [==============================] - 0s 8ms/step - loss: 3.2584 - accuracy: 0.1263\n",
            "Epoch 68/100\n",
            "3/3 [==============================] - 0s 9ms/step - loss: 3.2400 - accuracy: 0.1263\n",
            "Epoch 69/100\n",
            "3/3 [==============================] - 0s 8ms/step - loss: 3.2214 - accuracy: 0.1474\n",
            "Epoch 70/100\n",
            "3/3 [==============================] - 0s 7ms/step - loss: 3.2029 - accuracy: 0.1684\n",
            "Epoch 71/100\n",
            "3/3 [==============================] - 0s 9ms/step - loss: 3.1854 - accuracy: 0.1789\n",
            "Epoch 72/100\n",
            "3/3 [==============================] - 0s 7ms/step - loss: 3.1657 - accuracy: 0.2000\n",
            "Epoch 73/100\n",
            "3/3 [==============================] - 0s 8ms/step - loss: 3.1478 - accuracy: 0.2000\n",
            "Epoch 74/100\n",
            "3/3 [==============================] - 0s 7ms/step - loss: 3.1290 - accuracy: 0.2000\n",
            "Epoch 75/100\n",
            "3/3 [==============================] - 0s 8ms/step - loss: 3.1106 - accuracy: 0.2000\n",
            "Epoch 76/100\n",
            "3/3 [==============================] - 0s 8ms/step - loss: 3.0928 - accuracy: 0.2105\n",
            "Epoch 77/100\n",
            "3/3 [==============================] - 0s 8ms/step - loss: 3.0735 - accuracy: 0.2000\n",
            "Epoch 78/100\n",
            "3/3 [==============================] - 0s 9ms/step - loss: 3.0554 - accuracy: 0.1895\n",
            "Epoch 79/100\n",
            "3/3 [==============================] - 0s 8ms/step - loss: 3.0361 - accuracy: 0.2000\n",
            "Epoch 80/100\n",
            "3/3 [==============================] - 0s 8ms/step - loss: 3.0179 - accuracy: 0.2105\n",
            "Epoch 81/100\n",
            "3/3 [==============================] - 0s 9ms/step - loss: 2.9983 - accuracy: 0.2105\n",
            "Epoch 82/100\n",
            "3/3 [==============================] - 0s 8ms/step - loss: 2.9796 - accuracy: 0.2211\n",
            "Epoch 83/100\n",
            "3/3 [==============================] - 0s 9ms/step - loss: 2.9599 - accuracy: 0.2211\n",
            "Epoch 84/100\n",
            "3/3 [==============================] - 0s 10ms/step - loss: 2.9412 - accuracy: 0.2421\n",
            "Epoch 85/100\n",
            "3/3 [==============================] - 0s 9ms/step - loss: 2.9217 - accuracy: 0.2421\n",
            "Epoch 86/100\n",
            "3/3 [==============================] - 0s 8ms/step - loss: 2.9032 - accuracy: 0.2421\n",
            "Epoch 87/100\n",
            "3/3 [==============================] - 0s 8ms/step - loss: 2.8831 - accuracy: 0.2526\n",
            "Epoch 88/100\n",
            "3/3 [==============================] - 0s 9ms/step - loss: 2.8631 - accuracy: 0.2632\n",
            "Epoch 89/100\n",
            "3/3 [==============================] - 0s 8ms/step - loss: 2.8438 - accuracy: 0.2632\n",
            "Epoch 90/100\n",
            "3/3 [==============================] - 0s 8ms/step - loss: 2.8247 - accuracy: 0.2632\n",
            "Epoch 91/100\n",
            "3/3 [==============================] - 0s 8ms/step - loss: 2.8041 - accuracy: 0.2632\n",
            "Epoch 92/100\n",
            "3/3 [==============================] - 0s 8ms/step - loss: 2.7845 - accuracy: 0.2632\n",
            "Epoch 93/100\n",
            "3/3 [==============================] - 0s 9ms/step - loss: 2.7650 - accuracy: 0.2632\n",
            "Epoch 94/100\n",
            "3/3 [==============================] - 0s 9ms/step - loss: 2.7457 - accuracy: 0.2632\n",
            "Epoch 95/100\n",
            "3/3 [==============================] - 0s 7ms/step - loss: 2.7256 - accuracy: 0.2632\n",
            "Epoch 96/100\n",
            "3/3 [==============================] - 0s 11ms/step - loss: 2.7063 - accuracy: 0.2737\n",
            "Epoch 97/100\n",
            "3/3 [==============================] - 0s 10ms/step - loss: 2.6867 - accuracy: 0.2842\n",
            "Epoch 98/100\n",
            "3/3 [==============================] - 0s 8ms/step - loss: 2.6668 - accuracy: 0.2842\n",
            "Epoch 99/100\n",
            "3/3 [==============================] - 0s 9ms/step - loss: 2.6473 - accuracy: 0.2947\n",
            "Epoch 100/100\n",
            "3/3 [==============================] - 0s 8ms/step - loss: 2.6270 - accuracy: 0.3053\n"
          ]
        },
        {
          "output_type": "execute_result",
          "data": {
            "text/plain": [
              "<keras.callbacks.History at 0x7fe207dc3ed0>"
            ]
          },
          "metadata": {},
          "execution_count": 13
        }
      ]
    },
    {
      "cell_type": "code",
      "source": [
        "#generate a sequence from the model\n",
        "def generate_seq(model,tokenizer,enter_text,n_predict):\n",
        "    input,result=enter_text,enter_text\n",
        "    #generate a fix number of words\n",
        "    for i in range (n_predict):\n",
        "        \n",
        "        #encode the text as integers\n",
        "        \n",
        "        encoded=tokenizer.texts_to_sequences([input])[0]\n",
        "        encoded=np.asarray(encoded)\n",
        "        \n",
        "        #predict a word in vocabulary\n",
        "        predicted_word = np.argmax(model.predict(encoded))\n",
        "        \n",
        "        \n",
        "        #map predicted word index to word\n",
        "        out_word=''\n",
        "        for word,index in tokenizer.word_index.items():\n",
        "            if index==predicted_word:\n",
        "                out_word=word\n",
        "                break;\n",
        "        #append to  input\n",
        "        input, result= out_word, result+\" \"+out_word\n",
        "            \n",
        "    return result;   "
      ],
      "metadata": {
        "id": "Bh0fv8iPyCqj"
      },
      "execution_count": 14,
      "outputs": []
    },
    {
      "cell_type": "code",
      "source": [
        "#evaluating \n",
        "print(generate_seq(model, tokenizer, 'statistics', 6))"
      ],
      "metadata": {
        "colab": {
          "base_uri": "https://localhost:8080/"
        },
        "id": "GpxRBl-vyF7E",
        "outputId": "7130ccf3-8f9e-49ca-8cb4-244626badf09"
      },
      "execution_count": 15,
      "outputs": [
        {
          "output_type": "stream",
          "name": "stdout",
          "text": [
            "statistics and insights from data and insights\n"
          ]
        }
      ]
    },
    {
      "cell_type": "code",
      "source": [
        "#evaluating \n",
        "print(generate_seq(model, tokenizer, 'informatics', 6))"
      ],
      "metadata": {
        "colab": {
          "base_uri": "https://localhost:8080/"
        },
        "id": "dw96SyqZyJLW",
        "outputId": "86a92571-3dfc-4425-fead-2e6a847d73cc"
      },
      "execution_count": 16,
      "outputs": [
        {
          "output_type": "stream",
          "name": "stdout",
          "text": [
            "informatics and insights from data and insights\n"
          ]
        }
      ]
    },
    {
      "cell_type": "code",
      "source": [],
      "metadata": {
        "id": "hxWfNcalyJTm"
      },
      "execution_count": null,
      "outputs": []
    }
  ]
}